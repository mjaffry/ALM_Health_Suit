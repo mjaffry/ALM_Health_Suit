{
  "nbformat": 4,
  "nbformat_minor": 0,
  "metadata": {
    "colab": {
      "name": "PrintStatement.ipynb",
      "provenance": [],
      "authorship_tag": "ABX9TyN9P6YDLXb/fmFYdDstZedT",
      "include_colab_link": true
    },
    "kernelspec": {
      "name": "python3",
      "display_name": "Python 3"
    }
  },
  "cells": [
    {
      "cell_type": "markdown",
      "metadata": {
        "id": "view-in-github",
        "colab_type": "text"
      },
      "source": [
        "<a href=\"https://colab.research.google.com/github/mjaffry/ALM_Health_Suit/blob/master/PrintStatement.ipynb\" target=\"_parent\"><img src=\"https://colab.research.google.com/assets/colab-badge.svg\" alt=\"Open In Colab\"/></a>"
      ]
    },
    {
      "cell_type": "code",
      "metadata": {
        "colab": {
          "base_uri": "https://localhost:8080/",
          "height": 35
        },
        "id": "bgu29Y9cU4Lm",
        "outputId": "57982ada-0f09-454e-8b54-74c3ff518b10"
      },
      "source": [
        "\"Hello World  \""
      ],
      "execution_count": 1,
      "outputs": [
        {
          "output_type": "execute_result",
          "data": {
            "application/vnd.google.colaboratory.intrinsic+json": {
              "type": "string"
            },
            "text/plain": [
              "'Hello World'"
            ]
          },
          "metadata": {
            "tags": []
          },
          "execution_count": 1
        }
      ]
    },
    {
      "cell_type": "code",
      "metadata": {
        "colab": {
          "base_uri": "https://localhost:8080/"
        },
        "id": "JEP0s9_wVIq6",
        "outputId": "66d710fd-87d0-4121-8f6f-490760ccf00d"
      },
      "source": [
        "print (\"Hello world\")"
      ],
      "execution_count": 2,
      "outputs": [
        {
          "output_type": "stream",
          "text": [
            "Hello world\n"
          ],
          "name": "stdout"
        }
      ]
    },
    {
      "cell_type": "code",
      "metadata": {
        "colab": {
          "base_uri": "https://localhost:8080/",
          "height": 35
        },
        "id": "BT4sP8oiVIiW",
        "outputId": "1881d729-b4e9-41d8-fd55-2c320e1e6841"
      },
      "source": [
        "name = \"Eric\"\r\n",
        "\"Hello, %s.\" % name"
      ],
      "execution_count": 3,
      "outputs": [
        {
          "output_type": "execute_result",
          "data": {
            "application/vnd.google.colaboratory.intrinsic+json": {
              "type": "string"
            },
            "text/plain": [
              "'Hello, Eric.'"
            ]
          },
          "metadata": {
            "tags": []
          },
          "execution_count": 3
        }
      ]
    },
    {
      "cell_type": "code",
      "metadata": {
        "colab": {
          "base_uri": "https://localhost:8080/",
          "height": 35
        },
        "id": "Q7aUz-GNVb0o",
        "outputId": "81b0ff1b-e9a6-4b4a-f968-c1a8e07bd7a0"
      },
      "source": [
        "name = \"Eric\"\r\n",
        "age = 74\r\n",
        "\"Hello, %s. You are %s.\" % (name, age)"
      ],
      "execution_count": 4,
      "outputs": [
        {
          "output_type": "execute_result",
          "data": {
            "application/vnd.google.colaboratory.intrinsic+json": {
              "type": "string"
            },
            "text/plain": [
              "'Hello, Eric. You are 74.'"
            ]
          },
          "metadata": {
            "tags": []
          },
          "execution_count": 4
        }
      ]
    },
    {
      "cell_type": "code",
      "metadata": {
        "colab": {
          "base_uri": "https://localhost:8080/",
          "height": 35
        },
        "id": "oAHb0zcpVhHQ",
        "outputId": "c10462d9-c844-4821-a16d-5b90d55ca52d"
      },
      "source": [
        "first_name = \"Eric\"\r\n",
        "last_name = \"Idle\"\r\n",
        "age = 74\r\n",
        "profession = \"comedian\"\r\n",
        "affiliation = \"Monty Python\"\r\n",
        "\"Hello, %s %s. You are %s. You are a %s. You were a member of %s.\" % (first_name, last_name, age, profession, affiliation)\r\n"
      ],
      "execution_count": 5,
      "outputs": [
        {
          "output_type": "execute_result",
          "data": {
            "application/vnd.google.colaboratory.intrinsic+json": {
              "type": "string"
            },
            "text/plain": [
              "'Hello, Eric Idle. You are 74. You are a comedian. You were a member of Monty Python.'"
            ]
          },
          "metadata": {
            "tags": []
          },
          "execution_count": 5
        }
      ]
    },
    {
      "cell_type": "code",
      "metadata": {
        "colab": {
          "base_uri": "https://localhost:8080/",
          "height": 35
        },
        "id": "arAQvgVGVodM",
        "outputId": "00562b6d-8e94-41bf-dec9-54b71fa8d29d"
      },
      "source": [
        "\"Hello, {}. You are {}.\".format(name, age)"
      ],
      "execution_count": 6,
      "outputs": [
        {
          "output_type": "execute_result",
          "data": {
            "application/vnd.google.colaboratory.intrinsic+json": {
              "type": "string"
            },
            "text/plain": [
              "'Hello, Eric. You are 74.'"
            ]
          },
          "metadata": {
            "tags": []
          },
          "execution_count": 6
        }
      ]
    },
    {
      "cell_type": "code",
      "metadata": {
        "colab": {
          "base_uri": "https://localhost:8080/",
          "height": 35
        },
        "id": "6Ieq8GWfWGm6",
        "outputId": "4a9a2b10-d179-4006-93e3-39bd77a4c860"
      },
      "source": [
        "\"Hello, {1}. You are {0}.\".format(age, name)"
      ],
      "execution_count": 12,
      "outputs": [
        {
          "output_type": "execute_result",
          "data": {
            "application/vnd.google.colaboratory.intrinsic+json": {
              "type": "string"
            },
            "text/plain": [
              "'Hello, Eric. You are 74.'"
            ]
          },
          "metadata": {
            "tags": []
          },
          "execution_count": 12
        }
      ]
    },
    {
      "cell_type": "code",
      "metadata": {
        "colab": {
          "base_uri": "https://localhost:8080/",
          "height": 35
        },
        "id": "ASlvZi1pWMvt",
        "outputId": "e0a74aac-1800-45bc-8083-93118ebdffaa"
      },
      "source": [
        "person = {'name': 'Eric', 'age': 74}\r\n",
        "\"Hello, {name}. You are {age}.\".format(name=person['name'], age=person['age'])\r\n"
      ],
      "execution_count": 13,
      "outputs": [
        {
          "output_type": "execute_result",
          "data": {
            "application/vnd.google.colaboratory.intrinsic+json": {
              "type": "string"
            },
            "text/plain": [
              "'Hello, Eric. You are 74.'"
            ]
          },
          "metadata": {
            "tags": []
          },
          "execution_count": 13
        }
      ]
    },
    {
      "cell_type": "code",
      "metadata": {
        "colab": {
          "base_uri": "https://localhost:8080/",
          "height": 35
        },
        "id": "U5Cj8_PIWd9p",
        "outputId": "e3a9a34e-7b99-4c98-8e48-4e2996ec0440"
      },
      "source": [
        "person = {'name': 'Eric', 'age': 74}\r\n",
        "\"Hello, {name}. You are {age}.\".format(**person)"
      ],
      "execution_count": 14,
      "outputs": [
        {
          "output_type": "execute_result",
          "data": {
            "application/vnd.google.colaboratory.intrinsic+json": {
              "type": "string"
            },
            "text/plain": [
              "'Hello, Eric. You are 74.'"
            ]
          },
          "metadata": {
            "tags": []
          },
          "execution_count": 14
        }
      ]
    },
    {
      "cell_type": "code",
      "metadata": {
        "colab": {
          "base_uri": "https://localhost:8080/"
        },
        "id": "ViaCba9_WkS0",
        "outputId": "a0a1a0b2-5460-482d-b41f-fc891c25b2a5"
      },
      "source": [
        "first_name = \"Eric\"\r\n",
        "last_name = \"Idle\"\r\n",
        "age = 74\r\n",
        "profession = \"comedian\"\r\n",
        "affiliation = \"Monty Python\"\r\n",
        "print((\"Hello, {first_name} {last_name}. You are {age}. \" + \r\n",
        "       \"You are a {profession}. You were a member of {affiliation}.\") \\\r\n",
        "       .format(first_name=first_name, last_name=last_name, age=age, \\\r\n",
        "               profession=profession, affiliation=affiliation))"
      ],
      "execution_count": 15,
      "outputs": [
        {
          "output_type": "stream",
          "text": [
            "Hello, Eric Idle. You are 74. You are a comedian. You were a member of Monty Python.\n"
          ],
          "name": "stdout"
        }
      ]
    },
    {
      "cell_type": "code",
      "metadata": {
        "colab": {
          "base_uri": "https://localhost:8080/",
          "height": 35
        },
        "id": "30k05u08WygF",
        "outputId": "91ad14ab-a382-445e-c94c-df7780a69f2e"
      },
      "source": [
        "name = \"Eric\"\r\n",
        "age = 74\r\n",
        "f\"Hello, {name}. You are {age}.\""
      ],
      "execution_count": 16,
      "outputs": [
        {
          "output_type": "execute_result",
          "data": {
            "application/vnd.google.colaboratory.intrinsic+json": {
              "type": "string"
            },
            "text/plain": [
              "'Hello, Eric. You are 74.'"
            ]
          },
          "metadata": {
            "tags": []
          },
          "execution_count": 16
        }
      ]
    },
    {
      "cell_type": "code",
      "metadata": {
        "colab": {
          "base_uri": "https://localhost:8080/",
          "height": 35
        },
        "id": "494vMubPW3l0",
        "outputId": "e2dd5cb5-a8f8-4d93-e529-a6bb33b59635"
      },
      "source": [
        "F\"Hello, {name}. You are {age}.\""
      ],
      "execution_count": 17,
      "outputs": [
        {
          "output_type": "execute_result",
          "data": {
            "application/vnd.google.colaboratory.intrinsic+json": {
              "type": "string"
            },
            "text/plain": [
              "'Hello, Eric. You are 74.'"
            ]
          },
          "metadata": {
            "tags": []
          },
          "execution_count": 17
        }
      ]
    },
    {
      "cell_type": "code",
      "metadata": {
        "colab": {
          "base_uri": "https://localhost:8080/",
          "height": 35
        },
        "id": "hUoeEfpSW8Sk",
        "outputId": "ef9cb470-78c2-4847-9ee6-72acddd3fa1d"
      },
      "source": [
        "f\"{2 * 37}\""
      ],
      "execution_count": 18,
      "outputs": [
        {
          "output_type": "execute_result",
          "data": {
            "application/vnd.google.colaboratory.intrinsic+json": {
              "type": "string"
            },
            "text/plain": [
              "'74'"
            ]
          },
          "metadata": {
            "tags": []
          },
          "execution_count": 18
        }
      ]
    },
    {
      "cell_type": "code",
      "metadata": {
        "colab": {
          "base_uri": "https://localhost:8080/",
          "height": 35
        },
        "id": "AveRK4s0XHC0",
        "outputId": "3ac88a22-10b9-4c74-ce86-017067604ffb"
      },
      "source": [
        "def to_lowercase(input):\r\n",
        "    return input.lower()\r\n",
        "\r\n",
        "name = \"Eric Idle\"\r\n",
        "f\"{to_lowercase(name)} is funny.\""
      ],
      "execution_count": 19,
      "outputs": [
        {
          "output_type": "execute_result",
          "data": {
            "application/vnd.google.colaboratory.intrinsic+json": {
              "type": "string"
            },
            "text/plain": [
              "'eric idle is funny.'"
            ]
          },
          "metadata": {
            "tags": []
          },
          "execution_count": 19
        }
      ]
    },
    {
      "cell_type": "code",
      "metadata": {
        "colab": {
          "base_uri": "https://localhost:8080/",
          "height": 35
        },
        "id": "ceDxrGCWXMqB",
        "outputId": "32289ad5-3ef2-4ae7-8bdb-fe6c59945ebb"
      },
      "source": [
        "f\"{name.lower()} is funny.\""
      ],
      "execution_count": 20,
      "outputs": [
        {
          "output_type": "execute_result",
          "data": {
            "application/vnd.google.colaboratory.intrinsic+json": {
              "type": "string"
            },
            "text/plain": [
              "'eric idle is funny.'"
            ]
          },
          "metadata": {
            "tags": []
          },
          "execution_count": 20
        }
      ]
    },
    {
      "cell_type": "code",
      "metadata": {
        "id": "ZNtdrrh9XUkE"
      },
      "source": [
        "class Comedian:\r\n",
        "    def __init__(self, first_name, last_name, age):\r\n",
        "        self.first_name = first_name\r\n",
        "        self.last_name = last_name\r\n",
        "        self.age = age\r\n",
        "\r\n",
        "    def __str__(self):\r\n",
        "        return f\"{self.first_name} {self.last_name} is {self.age}.\"\r\n",
        "\r\n",
        "    def __repr__(self):\r\n",
        "        return f\"{self.first_name} {self.last_name} is {self.age}. Surprise!\""
      ],
      "execution_count": 21,
      "outputs": []
    },
    {
      "cell_type": "code",
      "metadata": {
        "colab": {
          "base_uri": "https://localhost:8080/",
          "height": 35
        },
        "id": "8GsFzgUuXcfy",
        "outputId": "16fc4149-8632-453e-b136-d48f7f99787b"
      },
      "source": [
        "new_comedian = Comedian(\"Eric\", \"Idle\", \"74\")\r\n",
        "f\"{new_comedian}\""
      ],
      "execution_count": 22,
      "outputs": [
        {
          "output_type": "execute_result",
          "data": {
            "application/vnd.google.colaboratory.intrinsic+json": {
              "type": "string"
            },
            "text/plain": [
              "'Eric Idle is 74.'"
            ]
          },
          "metadata": {
            "tags": []
          },
          "execution_count": 22
        }
      ]
    },
    {
      "cell_type": "code",
      "metadata": {
        "colab": {
          "base_uri": "https://localhost:8080/",
          "height": 35
        },
        "id": "O56RM-r0XiHC",
        "outputId": "443f10ea-28a3-4ebe-a988-16f9bb79b943"
      },
      "source": [
        "f\"{new_comedian}\"\r\n",
        "\r\n",
        "f\"{new_comedian!r}\""
      ],
      "execution_count": 23,
      "outputs": [
        {
          "output_type": "execute_result",
          "data": {
            "application/vnd.google.colaboratory.intrinsic+json": {
              "type": "string"
            },
            "text/plain": [
              "'Eric Idle is 74. Surprise!'"
            ]
          },
          "metadata": {
            "tags": []
          },
          "execution_count": 23
        }
      ]
    }
  ]
}